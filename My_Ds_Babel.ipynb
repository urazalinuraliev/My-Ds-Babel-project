{
  "nbformat": 4,
  "nbformat_minor": 0,
  "metadata": {
    "colab": {
      "provenance": [],
      "authorship_tag": "ABX9TyM5Df6+DLNdI38AAWrjWFr4",
      "include_colab_link": true
    },
    "kernelspec": {
      "name": "python3",
      "display_name": "Python 3"
    },
    "language_info": {
      "name": "python"
    }
  },
  "cells": [
    {
      "cell_type": "markdown",
      "metadata": {
        "id": "view-in-github",
        "colab_type": "text"
      },
      "source": [
        "<a href=\"https://colab.research.google.com/github/urazalinuraliev/My-Ds-Babel-project/blob/main/My_Ds_Babel.ipynb\" target=\"_parent\"><img src=\"https://colab.research.google.com/assets/colab-badge.svg\" alt=\"Open In Colab\"/></a>"
      ]
    },
    {
      "cell_type": "code",
      "source": [
        "import pandas as pd\n",
        "import sqlite3 as sql \n",
        "import csv"
      ],
      "metadata": {
        "id": "KSHRB2UWSjyk"
      },
      "execution_count": null,
      "outputs": []
    },
    {
      "cell_type": "code",
      "source": [
        "def sql_to_csv(database, table_name):\n",
        "    connection = sql.connect(database)\n",
        "    cursor = connection.cursor()\n",
        "    cursor.execute(\"SELECT * FROM \" + table_name)\n",
        "    result = cursor.fetchall()\n",
        "    sql_data = [i[0].title().replace(\"_\", \" \") for i in cursor.description]\n",
        "    s = []\n",
        "    s.append(','.join(sql_data))\n",
        "    for res in result:\n",
        "        s.append(','.join([str(i) for i in res]))\n",
        "    res_data = \"\\n\".join(s)\n",
        "    return res_data\n",
        "    \n"
      ],
      "metadata": {
        "id": "OWoGcjTaSzJy"
      },
      "execution_count": null,
      "outputs": []
    },
    {
      "cell_type": "code",
      "source": [
        "def csv_to_sql(csv_content, database, table_name):\n",
        "    csv_df = pd.read_csv(csv_content)\n",
        "    connection = sql.connect(database)\n",
        "    csv_df.to_sql(table_name, con=connection, if_exists='replace', index=False)"
      ],
      "metadata": {
        "id": "x2g0vBIbg7Bt"
      },
      "execution_count": null,
      "outputs": []
    },
    {
      "cell_type": "code",
      "source": [
        "print(sql_to_csv('sample_data/all_fault_line.db','fault_lines'))\n",
        "csv_content = open(\"sample_data/list_volcano.csv\")\n",
        "csv_to_sql(csv_content, 'list_volcanos.db','volcanos')\n"
      ],
      "metadata": {
        "id": "yw0zTe00Y2oL"
      },
      "execution_count": null,
      "outputs": []
    },
    {
      "cell_type": "code",
      "source": [],
      "metadata": {
        "id": "xjV1ySOuchxP"
      },
      "execution_count": null,
      "outputs": []
    },
    {
      "cell_type": "code",
      "source": [
        "import pandas as pd\n",
        "import sqlite3 as sql \n",
        "import csv\n",
        "\n",
        "\n",
        "def sql_to_csv(database, table_name):\n",
        "    connection = sql.connect(database)\n",
        "    cursor = connection.cursor()\n",
        "    cursor.execute(\"SELECT * FROM \" + table_name)\n",
        "    result = cursor.fetchall()\n",
        "    sql_data = [i[0].title().replace(\"_\", \" \") for i in cursor.description]\n",
        "    s = []\n",
        "    s.append(','.join(sql_data))\n",
        "    for res in result:\n",
        "        s.append(','.join([str(i) for i in res]))\n",
        "    res_data = \"\\n\".join(s)\n",
        "    return res_data\n",
        "\n",
        "\n",
        "def csv_to_sql(csv_content, database, table_name):\n",
        "    csv_df = pd.read_csv(csv_content)\n",
        "    connection = sql.connect(database)\n",
        "    csv_df.to_sql(table_name, con=connection, if_exists='replace', index=False)\n",
        "\n",
        "\n",
        "print(sql_to_csv('all_fault_line.db','fault_lines'))\n",
        "csv_content = open(\"list_volcano.csv\")\n",
        "csv_to_sql(csv_content, 'list_volcanos.db','volcanos')\n"
      ],
      "metadata": {
        "id": "29s2qQ8RTcmT"
      },
      "execution_count": null,
      "outputs": []
    }
  ]
}